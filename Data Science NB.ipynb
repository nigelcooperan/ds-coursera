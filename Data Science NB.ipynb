{
    "cells": [
        {
            "cell_type": "markdown",
            "metadata": {
                "collapsed": true
            },
            "source": "# \u201cMy Jupyter Notebook on IBM Watson Studio\u201d"
        },
        {
            "cell_type": "markdown",
            "metadata": {},
            "source": "**Nigel Cooper**  \nCurrent Occupation: Machine Learner Analyst  \nPrinciple Desired Occupation: Data Scientist"
        },
        {
            "cell_type": "markdown",
            "metadata": {},
            "source": "*\u201cI am interested in data science because it's the next logical step in my career. Since undergraduate, i've had an apptitude and curiosity for the hard sciences, and a passion to work through difficult problems, and the ambition to continue learning.\"*"
        },
        {
            "cell_type": "markdown",
            "metadata": {},
            "source": "### Assigning a fyp variable to a list. These are potential roles in my 5 year career plan. "
        },
        {
            "cell_type": "code",
            "execution_count": 7,
            "metadata": {},
            "outputs": [
                {
                    "name": "stdout",
                    "output_type": "stream",
                    "text": "['analyst', 'scientist', 'independent contributor', 'project manager', 'principle']\n"
                }
            ],
            "source": "fyp = [\"analyst\", \"scientist\", \"independent contributor\", \"project manager\", \"principle\"]  \n\nprint(fyp)"
        },
        {
            "cell_type": "markdown",
            "metadata": {},
            "source": "My favorite hobbies are:\n   1. Reading about math concepts\n       - calculus\n       - statistics\n   2. Writing \n       - personal blogs\n   3. Collecting\n       - stamps\n       - memorabelia\n   4. Exercising  \n       - [example workout](https://generationiron.com/david-goggins-workout/)\n   5. Volounteering"
        },
        {
            "cell_type": "markdown",
            "metadata": {},
            "source": ""
        }
    ],
    "metadata": {
        "kernelspec": {
            "display_name": "Python 3.10",
            "language": "python",
            "name": "python3"
        },
        "language_info": {
            "codemirror_mode": {
                "name": "ipython",
                "version": 3
            },
            "file_extension": ".py",
            "mimetype": "text/x-python",
            "name": "python",
            "nbconvert_exporter": "python",
            "pygments_lexer": "ipython3",
            "version": "3.10.14"
        }
    },
    "nbformat": 4,
    "nbformat_minor": 1
}